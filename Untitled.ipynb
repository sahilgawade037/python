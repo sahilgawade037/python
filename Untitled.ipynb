{
 "cells": [
  {
   "cell_type": "code",
   "execution_count": 2,
   "id": "c9da17a6-6079-47fb-a3b4-b3778e247d94",
   "metadata": {},
   "outputs": [
    {
     "name": "stdout",
     "output_type": "stream",
     "text": [
      "('sun', 'mon', 'tue')\n"
     ]
    }
   ],
   "source": [
    "days=(\"sun\",\"mon\",\"tue\")\n",
    "print(days)\n"
   ]
  },
  {
   "cell_type": "code",
   "execution_count": 6,
   "id": "45b84223-d069-4fe9-8527-4a6d49652be6",
   "metadata": {},
   "outputs": [
    {
     "name": "stdout",
     "output_type": "stream",
     "text": [
      "('sun', 'mon', 'tue', 'wed', 'fri', 'tue')\n",
      "3\n"
     ]
    }
   ],
   "source": [
    "days=(\"sun\",\"mon\",\"tue\",\"wed\",\"fri\",\"tue\")\n",
    "print(days)\n",
    "days.count(\"tue\")\n",
    "print(days.index(\"wed\"))"
   ]
  },
  {
   "cell_type": "code",
   "execution_count": null,
   "id": "530d5a9f-13f2-4959-b6ef-e12084af9566",
   "metadata": {},
   "outputs": [],
   "source": []
  }
 ],
 "metadata": {
  "kernelspec": {
   "display_name": "Python 3 (ipykernel)",
   "language": "python",
   "name": "python3"
  },
  "language_info": {
   "codemirror_mode": {
    "name": "ipython",
    "version": 3
   },
   "file_extension": ".py",
   "mimetype": "text/x-python",
   "name": "python",
   "nbconvert_exporter": "python",
   "pygments_lexer": "ipython3",
   "version": "3.12.4"
  }
 },
 "nbformat": 4,
 "nbformat_minor": 5
}
