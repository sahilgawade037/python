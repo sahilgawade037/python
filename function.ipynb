{
 "cells": [
  {
   "cell_type": "code",
   "execution_count": null,
   "id": "2bb3adce-d55a-4b6d-86bc-43701468c7bb",
   "metadata": {},
   "outputs": [],
   "source": []
  },
  {
   "cell_type": "code",
   "execution_count": 5,
   "id": "740b90ef-1890-408c-8bd3-97ead79143f3",
   "metadata": {},
   "outputs": [
    {
     "ename": "IndentationError",
     "evalue": "unexpected indent (648025758.py, line 3)",
     "output_type": "error",
     "traceback": [
      "\u001b[1;36m  Cell \u001b[1;32mIn[5], line 3\u001b[1;36m\u001b[0m\n\u001b[1;33m    def add(num1,num2):\u001b[0m\n\u001b[1;37m    ^\u001b[0m\n\u001b[1;31mIndentationError\u001b[0m\u001b[1;31m:\u001b[0m unexpected indent\n"
     ]
    }
   ],
   "source": [
    "num1=int(input(\"Enter the first number\"))\n",
    "num2=int(input(\"Enter the second number\"))\n",
    " def add(num1,num2):\n",
    "  return num1+num2\n",
    " def sub(num1,num2):\n",
    "  return num1-num2\n",
    " def mul(num1,num2):\n",
    "  return num1*num2\n",
    " def div(num1,num2):\n",
    "  return num1/num2\n",
    " def module(num1,num2):\n",
    "  return num1%num2\n",
    "print(\"add\",addition(num1,num2))\n",
    "print(\"sub\",substraction(num1,num2))\n",
    "print(\"mul\",multiplication(num1,num2))\n",
    "print(\"div\",division(num1,num2))\n",
    "print(\"module\",module(num1,num2))\n",
    "\n",
    "     "
   ]
  },
  {
   "cell_type": "code",
   "execution_count": 9,
   "id": "e8fe4e8f-a98a-42ca-a50a-7dcc87598773",
   "metadata": {},
   "outputs": [
    {
     "name": "stdin",
     "output_type": "stream",
     "text": [
      "Enter the first number 23\n",
      "Enter the second number 21\n"
     ]
    },
    {
     "name": "stdout",
     "output_type": "stream",
     "text": [
      "add 44\n",
      "sub 2\n",
      "mul 483\n",
      "div 1.0952380952380953\n",
      "module 2\n"
     ]
    }
   ],
   "source": [
    "num1=int(input(\"Enter the first number\"))\n",
    "num2=int(input(\"Enter the second number\"))\n",
    "def add(num1,num2):\n",
    " return num1+num2\n",
    "def sub(num1,num2):\n",
    " return num1-num2\n",
    "def mul(num1,num2):\n",
    " return num1*num2\n",
    "def div(num1,num2):\n",
    " return num1/num2\n",
    "def module(num1,num2):\n",
    " return num1%num2\n",
    "print(\"add\",add(num1,num2))\n",
    "print(\"sub\",sub(num1,num2))\n",
    "print(\"mul\",mul(num1,num2))\n",
    "print(\"div\",div(num1,num2))\n",
    "print(\"module\",module(num1,num2))"
   ]
  },
  {
   "cell_type": "code",
   "execution_count": 15,
   "id": "f16d47e1-bf0d-4633-9512-83ffeedea336",
   "metadata": {},
   "outputs": [
    {
     "ename": "SyntaxError",
     "evalue": "expected ':' (2227532808.py, line 4)",
     "output_type": "error",
     "traceback": [
      "\u001b[1;36m  Cell \u001b[1;32mIn[15], line 4\u001b[1;36m\u001b[0m\n\u001b[1;33m    def greater(num1,num2,num3)\u001b[0m\n\u001b[1;37m                               ^\u001b[0m\n\u001b[1;31mSyntaxError\u001b[0m\u001b[1;31m:\u001b[0m expected ':'\n"
     ]
    }
   ],
   "source": [
    "num1=int(input(\"Enter the first number\"))\n",
    "num2=int(input(\"Enter the first number\"))\n",
    "num3=int(input(\"Enter the first number\"))\n",
    "def greater(num1,num2,num3)\n",
    "if num1>num2 and num1>num3:\n",
    "    print(\"num1 is greater\"num1)\n",
    "elif num2>num1 and num2>num3:\n",
    "    print(\"num2 is greater\",num2)\n",
    "else:\n",
    "    print(\"num3 is grater\",num3)"
   ]
  },
  {
   "cell_type": "code",
   "execution_count": 21,
   "id": "b6c885ca-7277-44ea-a06b-2c731f8772f8",
   "metadata": {},
   "outputs": [
    {
     "name": "stdin",
     "output_type": "stream",
     "text": [
      "Enter the first number 12\n",
      "Enter the first number 11\n",
      "Enter the first number 1\n"
     ]
    },
    {
     "name": "stdout",
     "output_type": "stream",
     "text": [
      "num1 is greater 12\n"
     ]
    }
   ],
   "source": [
    "num1=int(input(\"Enter the first number\"))\n",
    "num2=int(input(\"Enter the second number\"))\n",
    "num3=int(input(\"Enter the third number\"))\n",
    "def greater(num1,num2,num3):\n",
    " if num1>num2 and num1>num3:\n",
    "    print(\"num1 is greater\",num1)\n",
    " elif num2>num1 and num2>num3:\n",
    "    print(\"num2 is greater\",num2)\n",
    " else:\n",
    "    print(\"num3 is grater\",num3)\n",
    "greater(num1,num2,num3)"
   ]
  },
  {
   "cell_type": "code",
   "execution_count": null,
   "id": "223d3275-f4ae-48b5-95b9-7b8cf56a755d",
   "metadata": {},
   "outputs": [],
   "source": [
    "num1=int(input(\"Enter the first number\"))\n",
    "num1=int(input(\"Enter the second number\"))\n",
    "add=lamda a,b:a+b:\n",
    "print(add(a,b))"
   ]
  },
  {
   "cell_type": "code",
   "execution_count": null,
   "id": "3e71d7a0-af14-41b9-b84c-8f21132fb34c",
   "metadata": {},
   "outputs": [],
   "source": [
    "num1=int(input(\"Enter the first number\"))\n",
    "num1=int(input(\"Enter the second number\"))\n",
    "add=lamda a,b:a+b:\n",
    "print(add(a,b))"
   ]
  },
  {
   "cell_type": "code",
   "execution_count": null,
   "id": "8d0ede2b-c53b-45b3-a873-745efcd4bd6f",
   "metadata": {},
   "outputs": [],
   "source": []
  }
 ],
 "metadata": {
  "kernelspec": {
   "display_name": "Python 3 (ipykernel)",
   "language": "python",
   "name": "python3"
  },
  "language_info": {
   "codemirror_mode": {
    "name": "ipython",
    "version": 3
   },
   "file_extension": ".py",
   "mimetype": "text/x-python",
   "name": "python",
   "nbconvert_exporter": "python",
   "pygments_lexer": "ipython3",
   "version": "3.12.4"
  }
 },
 "nbformat": 4,
 "nbformat_minor": 5
}
