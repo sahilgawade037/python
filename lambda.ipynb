{
 "cells": [
  {
   "cell_type": "code",
   "execution_count": 5,
   "id": "a1753014-394d-4208-b498-93b047843973",
   "metadata": {},
   "outputs": [
    {
     "name": "stdin",
     "output_type": "stream",
     "text": [
      "Enter the first number 23\n",
      "Enter the second number 46\n"
     ]
    },
    {
     "name": "stdout",
     "output_type": "stream",
     "text": [
      "69\n",
      "-23\n",
      "0.5\n",
      "1058\n",
      "23\n"
     ]
    }
   ],
   "source": [
    "num1=int(input(\"Enter the first number\"))\n",
    "num2=int(input(\"Enter the second number\"))\n",
    "add=lambda num1,num2:num1+num2\n",
    "print(add(num1,num2))\n",
    "sub=lambda num1,num2:num1-num2\n",
    "print(sub(num1,num2))\n",
    "div=lambda num1,num2:num1/num2\n",
    "print(div(num1,num2))\n",
    "mul=lambda num1,num2:num1*num2\n",
    "print(mul(num1,num2))\n",
    "module=lambda num1,num2:num1%num2\n",
    "print(module(num1,num2))"
   ]
  },
  {
   "cell_type": "code",
   "execution_count": 7,
   "id": "9037f0f5-3cdd-402a-baf1-c75a398c386e",
   "metadata": {},
   "outputs": [
    {
     "ename": "SyntaxError",
     "evalue": "invalid syntax (1894653628.py, line 4)",
     "output_type": "error",
     "traceback": [
      "\u001b[1;36m  Cell \u001b[1;32mIn[7], line 4\u001b[1;36m\u001b[0m\n\u001b[1;33m    greater=lambda num1,num2,num3\u001b[0m\n\u001b[1;37m                                 ^\u001b[0m\n\u001b[1;31mSyntaxError\u001b[0m\u001b[1;31m:\u001b[0m invalid syntax\n"
     ]
    }
   ],
   "source": [
    "num1=int(input(\"Enter the first number\"))\n",
    "num2=int(input(\"Enter the second number\"))\n",
    "num3=int(input(\"Enter the third number\"))\n",
    "greater=lambda num1,num2,num3\n",
    " if num1>num2 and num1>num3:\n",
    "     print(\"Number 1 is greater\",num1)\n",
    "elif num2>num1 and num2>num3:\n",
    "    print(\"Number 2 is greater\",num2)\n",
    "else:\n",
    "   print(\"Number 3 ios greater\",num3)"
   ]
  },
  {
   "cell_type": "code",
   "execution_count": null,
   "id": "95a2fb1e-4c8e-428e-a640-a3c645d6445c",
   "metadata": {},
   "outputs": [],
   "source": []
  }
 ],
 "metadata": {
  "kernelspec": {
   "display_name": "Python 3 (ipykernel)",
   "language": "python",
   "name": "python3"
  },
  "language_info": {
   "codemirror_mode": {
    "name": "ipython",
    "version": 3
   },
   "file_extension": ".py",
   "mimetype": "text/x-python",
   "name": "python",
   "nbconvert_exporter": "python",
   "pygments_lexer": "ipython3",
   "version": "3.12.4"
  }
 },
 "nbformat": 4,
 "nbformat_minor": 5
}
