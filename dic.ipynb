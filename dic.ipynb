{
 "cells": [
  {
   "cell_type": "code",
   "execution_count": 7,
   "id": "6241f455-5202-49f8-a94d-1e25f17c6e51",
   "metadata": {},
   "outputs": [
    {
     "name": "stdout",
     "output_type": "stream",
     "text": [
      "{'jupiter': 'planet', 'star': 'sun'}\n"
     ]
    }
   ],
   "source": [
    "s={'jupiter': 'planet','star':'sun'}\n",
    "print(s)"
   ]
  },
  {
   "cell_type": "code",
   "execution_count": 12,
   "id": "280cc2d0-ee74-4840-932e-b80df6004243",
   "metadata": {},
   "outputs": [
    {
     "name": "stdout",
     "output_type": "stream",
     "text": [
      "96\n",
      "{'maths': 90, 'science': 94, 'eng': 80}\n",
      "{'maths': 90, 'eng': 80}\n"
     ]
    }
   ],
   "source": [
    "dic={'maths': 90, 'science':94, 'eng':96}\n",
    "x=dic['eng']\n",
    "print(x)\n",
    "dic['eng']=80\n",
    "print(dic)\n",
    "del dic['science']\n",
    "print(dic)\n"
   ]
  },
  {
   "cell_type": "code",
   "execution_count": 14,
   "id": "90ec039b-bb57-4d0f-b7eb-79d0cf197310",
   "metadata": {},
   "outputs": [
    {
     "name": "stdout",
     "output_type": "stream",
     "text": [
      "Ram\n",
      "None\n",
      "['Name', 'Age', 'department']\n",
      "['Ram', '21', 'cse']\n",
      "{'Name': 'sahil', 'Age': '20', 'department': 'cse'}\n",
      "{'Name': 'sahil', 'department': 'cse'}\n",
      "{}\n"
     ]
    }
   ],
   "source": [
    "d ={'Name': 'Ram','Age':'21','department':'cse'}\n",
    "d1={'Name': 'sahil','Age':'20'}\n",
    "print(d.get('Name'))\n",
    "print(d.get('Gender'))\n",
    "print(list(d.keys()))\n",
    "print(list(d.values()))\n",
    "d.update(d1)\n",
    "print(d)\n",
    "d.pop('Age')\n",
    "print(d)\n",
    "d.clear()\n",
    "print(d)"
   ]
  },
  {
   "cell_type": "code",
   "execution_count": null,
   "id": "3a0ef40a-5418-44c7-b854-02747e7c09f4",
   "metadata": {},
   "outputs": [],
   "source": []
  }
 ],
 "metadata": {
  "kernelspec": {
   "display_name": "Python 3 (ipykernel)",
   "language": "python",
   "name": "python3"
  },
  "language_info": {
   "codemirror_mode": {
    "name": "ipython",
    "version": 3
   },
   "file_extension": ".py",
   "mimetype": "text/x-python",
   "name": "python",
   "nbconvert_exporter": "python",
   "pygments_lexer": "ipython3",
   "version": "3.12.4"
  }
 },
 "nbformat": 4,
 "nbformat_minor": 5
}
