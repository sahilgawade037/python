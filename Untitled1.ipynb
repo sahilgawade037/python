{
 "cells": [
  {
   "cell_type": "code",
   "execution_count": 9,
   "id": "628836a9-802b-4bd5-848d-3afbcd33ffa2",
   "metadata": {},
   "outputs": [
    {
     "name": "stdout",
     "output_type": "stream",
     "text": [
      "True False\n"
     ]
    }
   ],
   "source": [
    "s={1,2,3,4,5}\n",
    "key=3\n",
    "x=key in s\n",
    "y=key not in s\n",
    "print(x,y)"
   ]
  },
  {
   "cell_type": "code",
   "execution_count": 13,
   "id": "4e9f1223-e318-480e-95d8-0dc8677db27d",
   "metadata": {},
   "outputs": [
    {
     "name": "stdout",
     "output_type": "stream",
     "text": [
      "{'c', 'a', 'd', 'b', 'z'}\n"
     ]
    }
   ],
   "source": [
    "s={'a','b','c','d','c','a','z'}\n",
    "print(s)"
   ]
  },
  {
   "cell_type": "code",
   "execution_count": 19,
   "id": "f792d7f0-9dff-4427-8299-a887138a95c0",
   "metadata": {},
   "outputs": [
    {
     "name": "stdout",
     "output_type": "stream",
     "text": [
      "True\n",
      "False\n"
     ]
    }
   ],
   "source": [
    "s1={1,2,3,4,5,'z','u',3}\n",
    "s2={2,3,1,5,'z',3,'u',4}\n",
    "x=s1==s2\n",
    "y=s1!=s2\n",
    "print(x)\n",
    "print(y)"
   ]
  },
  {
   "cell_type": "code",
   "execution_count": 24,
   "id": "2eb07887-119f-44b7-ba3a-eca108bb45a6",
   "metadata": {},
   "outputs": [
    {
     "name": "stdout",
     "output_type": "stream",
     "text": [
      "False False True True\n"
     ]
    }
   ],
   "source": [
    "s1={1,2,3,4,5,'z','u',3}\n",
    "s2={2,3,1,5,'z'}\n",
    "x=s1<s2\n",
    "y=s1<=s2\n",
    "u=s1>s2\n",
    "z=s1>=s2\n",
    "print(x,y,u,z)"
   ]
  },
  {
   "cell_type": "code",
   "execution_count": 29,
   "id": "b7a4e27c-09a1-4a73-b422-c07cf6ad3b17",
   "metadata": {},
   "outputs": [
    {
     "name": "stdout",
     "output_type": "stream",
     "text": [
      "{1, 2, 3, 4, 5, 's', 'u', 'z'}\n",
      "{'s'}\n",
      "{'s', 'u'}\n"
     ]
    }
   ],
   "source": [
    "s1={1,2,3,4,5,'z','u',3}\n",
    "s2={2,3,1,5,'z',4,'s'}\n",
    "a=s1|s2\n",
    "x=s2-s1\n",
    "y=s1^s2\n",
    "print(a)\n",
    "print(x)\n",
    "print(y)"
   ]
  },
  {
   "cell_type": "code",
   "execution_count": null,
   "id": "4ffc4778-7f2c-4bb7-a449-d928940bd1b3",
   "metadata": {},
   "outputs": [],
   "source": []
  }
 ],
 "metadata": {
  "kernelspec": {
   "display_name": "Python 3 (ipykernel)",
   "language": "python",
   "name": "python3"
  },
  "language_info": {
   "codemirror_mode": {
    "name": "ipython",
    "version": 3
   },
   "file_extension": ".py",
   "mimetype": "text/x-python",
   "name": "python",
   "nbconvert_exporter": "python",
   "pygments_lexer": "ipython3",
   "version": "3.12.4"
  }
 },
 "nbformat": 4,
 "nbformat_minor": 5
}
