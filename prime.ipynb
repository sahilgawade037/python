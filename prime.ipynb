{
 "cells": [
  {
   "cell_type": "code",
   "execution_count": 14,
   "id": "a86030a6-449a-4a29-a5e2-58f6bc4079e6",
   "metadata": {},
   "outputs": [
    {
     "name": "stdin",
     "output_type": "stream",
     "text": [
      "Enter the number to be checked 20\n"
     ]
    },
    {
     "name": "stdout",
     "output_type": "stream",
     "text": [
      "number is  not prime 20\n"
     ]
    }
   ],
   "source": [
    "number=int(input(\"Enter the number to be checked\"))\n",
    "def prime(number):\n",
    " for i in range(2,2+1):\n",
    "  if number%i==0:\n",
    "     print(\"number is  not prime\",number)\n",
    "  else:\n",
    "     print(\"num is  prime\",number)\n",
    "prime(number)"
   ]
  },
  {
   "cell_type": "code",
   "execution_count": null,
   "id": "259a2422-047b-42af-8baf-59bcc2af0ed2",
   "metadata": {},
   "outputs": [],
   "source": []
  }
 ],
 "metadata": {
  "kernelspec": {
   "display_name": "Python 3 (ipykernel)",
   "language": "python",
   "name": "python3"
  },
  "language_info": {
   "codemirror_mode": {
    "name": "ipython",
    "version": 3
   },
   "file_extension": ".py",
   "mimetype": "text/x-python",
   "name": "python",
   "nbconvert_exporter": "python",
   "pygments_lexer": "ipython3",
   "version": "3.12.4"
  }
 },
 "nbformat": 4,
 "nbformat_minor": 5
}
