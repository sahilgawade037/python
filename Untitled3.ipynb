{
 "cells": [
  {
   "cell_type": "code",
   "execution_count": 7,
   "id": "6241f455-5202-49f8-a94d-1e25f17c6e51",
   "metadata": {},
   "outputs": [
    {
     "name": "stdout",
     "output_type": "stream",
     "text": [
      "{'jupiter': 'planet', 'star': 'sun'}\n"
     ]
    }
   ],
   "source": [
    "s={'jupiter': 'planet','star':'sun'}\n",
    "print(s)"
   ]
  },
  {
   "cell_type": "code",
   "execution_count": 12,
   "id": "280cc2d0-ee74-4840-932e-b80df6004243",
   "metadata": {},
   "outputs": [
    {
     "name": "stdout",
     "output_type": "stream",
     "text": [
      "96\n",
      "{'maths': 90, 'science': 94, 'eng': 80}\n",
      "{'maths': 90, 'eng': 80}\n"
     ]
    }
   ],
   "source": [
    "dic={'maths': 90, 'science':94, 'eng':96}\n",
    "x=dic['eng']\n",
    "print(x)\n",
    "dic['eng']=80\n",
    "print(dic)\n",
    "del dic['science']\n",
    "print(dic)"
   ]
  },
  {
   "cell_type": "code",
   "execution_count": null,
   "id": "90ec039b-bb57-4d0f-b7eb-79d0cf197310",
   "metadata": {},
   "outputs": [],
   "source": []
  }
 ],
 "metadata": {
  "kernelspec": {
   "display_name": "Python 3 (ipykernel)",
   "language": "python",
   "name": "python3"
  },
  "language_info": {
   "codemirror_mode": {
    "name": "ipython",
    "version": 3
   },
   "file_extension": ".py",
   "mimetype": "text/x-python",
   "name": "python",
   "nbconvert_exporter": "python",
   "pygments_lexer": "ipython3",
   "version": "3.12.4"
  }
 },
 "nbformat": 4,
 "nbformat_minor": 5
}
